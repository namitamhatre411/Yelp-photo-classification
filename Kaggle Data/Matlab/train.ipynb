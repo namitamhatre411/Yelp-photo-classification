{
 "cells": [
  {
   "cell_type": "code",
   "execution_count": 31,
   "metadata": {
    "collapsed": true
   },
   "outputs": [],
   "source": [
    "import numpy as np\n",
    "import scipy.io\n",
    "import cPickle as pickle\n",
    "\n",
    "arr = scipy.io.loadmat('FV_unnorm.mat');\n",
    "arr = arr['FV_unnorm'];\n",
    "\n",
    "with open('../data_pickle/image_to_bid.pickle', 'rb') as handle:\n",
    "\timage_to_bid = pickle.load(handle)\n",
    "\n",
    "with open('../data_pickle/bid_to_image.pickle', 'rb') as handle:\n",
    "\tbid_to_image = pickle.load(handle)\n",
    "\n",
    "with open('../data_pickle/bid_to_label.pickle', 'rb') as handle:\n",
    "\tbid_to_label = pickle.load(handle)\n",
    "\n",
    "with open('../data_pickle/bid_train.pickle', 'rb') as handle:\n",
    "\tbid_train = pickle.load(handle)\n",
    "\n",
    "with open('../data_pickle/bid_test.pickle', 'rb') as handle:\n",
    "\tbid_test = pickle.load(handle)\n",
    "\n",
    "with open('../data_pickle/images_train.pickle', 'rb') as handle:\n",
    "\timages_train = pickle.load(handle)\n",
    "\n",
    "with open('../data_pickle/images_test.pickle', 'rb') as handle:\n",
    "\timages_test = pickle.load(handle)"
   ]
  },
  {
   "cell_type": "code",
   "execution_count": 32,
   "metadata": {
    "collapsed": false
   },
   "outputs": [],
   "source": [
    "arr = np.array(arr)"
   ]
  },
  {
   "cell_type": "code",
   "execution_count": 33,
   "metadata": {
    "collapsed": false
   },
   "outputs": [],
   "source": [
    "arr = arr.reshape(len(arr),len(arr[0][0]))"
   ]
  },
  {
   "cell_type": "code",
   "execution_count": 34,
   "metadata": {
    "collapsed": false
   },
   "outputs": [
    {
     "name": "stdout",
     "output_type": "stream",
     "text": [
      "[[ 0.          0.22033289  1.30213356 ...,  0.          0.          0.71593469]\n",
      " [ 0.          0.18417287  1.2244556  ...,  0.          0.          0.57550585]\n",
      " [ 0.          0.          1.86984277 ...,  0.          0.          0.25823367]\n",
      " ..., \n",
      " [ 0.02620608  0.          1.24680471 ...,  0.          0.          0.89175892]\n",
      " [ 0.          0.          1.48529172 ...,  0.          0.          0.55421138]\n",
      " [ 0.          0.          1.20651603 ...,  0.          0.          0.52477163]]\n"
     ]
    }
   ],
   "source": [
    "print arr"
   ]
  },
  {
   "cell_type": "code",
   "execution_count": 35,
   "metadata": {
    "collapsed": false
   },
   "outputs": [
    {
     "data": {
      "text/plain": [
       "4096"
      ]
     },
     "execution_count": 35,
     "metadata": {},
     "output_type": "execute_result"
    }
   ],
   "source": [
    "len(arr[0])"
   ]
  },
  {
   "cell_type": "code",
   "execution_count": 36,
   "metadata": {
    "collapsed": true
   },
   "outputs": [],
   "source": [
    "Ytrain = [];\n",
    "\n",
    "for i in images_train:\n",
    "    Ytrain.append(bid_to_label[image_to_bid[i]])"
   ]
  },
  {
   "cell_type": "code",
   "execution_count": 37,
   "metadata": {
    "collapsed": false
   },
   "outputs": [],
   "source": [
    "# Shuffle the data\n",
    "\n",
    "import sklearn\n",
    "\n",
    "arr, Ytrain = sklearn.utils.shuffle(arr, Ytrain, random_state=0)"
   ]
  },
  {
   "cell_type": "code",
   "execution_count": null,
   "metadata": {
    "collapsed": false
   },
   "outputs": [],
   "source": [
    "from sklearn.preprocessing import MultiLabelBinarizer\n",
    "from sklearn.multiclass import OneVsRestClassifier\n",
    "from sklearn.svm import SVC\n",
    "\n",
    "Ytrain = MultiLabelBinarizer().fit_transform(Ytrain)\n",
    "\n",
    "clf = OneVsRestClassifier(SVC(kernel='linear'))\n",
    "clf.fit(arr, Ytrain)\n",
    "clf.predict(arr)"
   ]
  },
  {
   "cell_type": "code",
   "execution_count": null,
   "metadata": {
    "collapsed": true
   },
   "outputs": [],
   "source": []
  }
 ],
 "metadata": {
  "kernelspec": {
   "display_name": "Python 2",
   "language": "python",
   "name": "python2"
  },
  "language_info": {
   "codemirror_mode": {
    "name": "ipython",
    "version": 2
   },
   "file_extension": ".py",
   "mimetype": "text/x-python",
   "name": "python",
   "nbconvert_exporter": "python",
   "pygments_lexer": "ipython2",
   "version": "2.7.11"
  }
 },
 "nbformat": 4,
 "nbformat_minor": 0
}
