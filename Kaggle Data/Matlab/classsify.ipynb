{
 "cells": [
  {
   "cell_type": "code",
   "execution_count": 1,
   "metadata": {
    "collapsed": true
   },
   "outputs": [],
   "source": [
    "import numpy as np\n",
    "import scipy.io\n",
    "import cPickle as pickle\n",
    "\n",
    "arr = scipy.io.loadmat('FV_unnorm_test.mat');\n",
    "arr = arr['FV_unnorm_test'];\n",
    "\n",
    "with open('VGG_Classifier.pickle', 'rb') as handle:\n",
    "\tclf = pickle.load(handle)\n",
    "\n",
    "with open('../data_pickle/image_to_bid.pickle', 'rb') as handle:\n",
    "\timage_to_bid = pickle.load(handle)\n",
    "\n",
    "with open('../data_pickle/bid_to_image.pickle', 'rb') as handle:\n",
    "\tbid_to_image = pickle.load(handle)\n",
    "\n",
    "with open('../data_pickle/bid_to_label.pickle', 'rb') as handle:\n",
    "\tbid_to_label = pickle.load(handle)\n",
    "\n",
    "with open('../data_pickle/bid_train.pickle', 'rb') as handle:\n",
    "\tbid_train = pickle.load(handle)\n",
    "\n",
    "with open('../data_pickle/bid_test.pickle', 'rb') as handle:\n",
    "\tbid_test = pickle.load(handle)\n",
    "\n",
    "with open('../data_pickle/images_train.pickle', 'rb') as handle:\n",
    "\timages_train = pickle.load(handle)\n",
    "\n",
    "with open('../data_pickle/images_test.pickle', 'rb') as handle:\n",
    "\timages_test = pickle.load(handle)\n"
   ]
  },
  {
   "cell_type": "code",
   "execution_count": 2,
   "metadata": {
    "collapsed": false
   },
   "outputs": [],
   "source": [
    "arr = np.array(arr)\n",
    "\n",
    "Ytest = [];\n",
    "\n",
    "for i in images_test:\n",
    "\tYtest.append(bid_to_label[image_to_bid[i]])\n",
    "\n",
    "\n",
    "#Shuffle\n",
    "\n",
    "import sklearn\n",
    "arr, Ytest = sklearn.utils.shuffle(arr, Ytest, random_state=0)\n"
   ]
  },
  {
   "cell_type": "code",
   "execution_count": 3,
   "metadata": {
    "collapsed": false
   },
   "outputs": [],
   "source": [
    "from sklearn.preprocessing import MultiLabelBinarizer\n",
    "from sklearn.multiclass import OneVsRestClassifier\n",
    "from sklearn.svm import SVC"
   ]
  },
  {
   "cell_type": "code",
   "execution_count": 4,
   "metadata": {
    "collapsed": true
   },
   "outputs": [],
   "source": [
    "pred = clf.predict(arr)"
   ]
  },
  {
   "cell_type": "code",
   "execution_count": 5,
   "metadata": {
    "collapsed": false
   },
   "outputs": [
    {
     "name": "stdout",
     "output_type": "stream",
     "text": [
      "[[0 1 0 1 0 1 1 0 0]]\n"
     ]
    }
   ],
   "source": [
    "with open('predictions.pickle', 'wb') as handle:\n",
    "\tpickle.dump(pred, handle)"
   ]
  },
  {
   "cell_type": "code",
   "execution_count": 6,
   "metadata": {
    "collapsed": false
   },
   "outputs": [
    {
     "data": {
      "text/plain": [
       "[1, 2, 3, 5, 6, 8]"
      ]
     },
     "execution_count": 6,
     "metadata": {},
     "output_type": "execute_result"
    }
   ],
   "source": []
  },
  {
   "cell_type": "code",
   "execution_count": null,
   "metadata": {
    "collapsed": true
   },
   "outputs": [],
   "source": []
  }
 ],
 "metadata": {
  "kernelspec": {
   "display_name": "Python 2",
   "language": "python",
   "name": "python2"
  },
  "language_info": {
   "codemirror_mode": {
    "name": "ipython",
    "version": 2
   },
   "file_extension": ".py",
   "mimetype": "text/x-python",
   "name": "python",
   "nbconvert_exporter": "python",
   "pygments_lexer": "ipython2",
   "version": "2.7.11"
  }
 },
 "nbformat": 4,
 "nbformat_minor": 0
}
