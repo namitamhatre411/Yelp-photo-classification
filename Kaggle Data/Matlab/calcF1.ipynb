{
 "cells": [
  {
   "cell_type": "code",
   "execution_count": 16,
   "metadata": {
    "collapsed": true
   },
   "outputs": [],
   "source": [
    "import numpy as np\n",
    "import scipy.io\n",
    "import cPickle as pickle\n",
    "\n",
    "with open('ytest.pickle', 'rb') as handle:\n",
    "\tYtest = pickle.load(handle)\n",
    "\n",
    "with open('predictions.pickle', 'rb') as handle:\n",
    "\tpred = pickle.load(handle)\n",
    "\n",
    "#Precision = \n",
    "F1num = 0\n",
    "F1den = 0\n"
   ]
  },
  {
   "cell_type": "code",
   "execution_count": 17,
   "metadata": {
    "collapsed": false
   },
   "outputs": [
    {
     "name": "stdout",
     "output_type": "stream",
     "text": [
      "F1 score for each class\n",
      "0.246658566221\n",
      "F1 score for each class\n",
      "0.730971491835\n",
      "F1 score for each class\n",
      "0.733858267717\n",
      "F1 score for each class\n",
      "0.486444314414\n",
      "F1 score for each class\n",
      "0.564832793959\n",
      "F1 score for each class\n",
      "0.763460066343\n",
      "F1 score for each class\n",
      "0.903733200597\n",
      "F1 score for each class\n",
      "0.476884536552\n",
      "F1 score for each class\n",
      "0.692283950617\n"
     ]
    }
   ],
   "source": [
    "from sklearn.preprocessing import MultiLabelBinarizer\n",
    "from sklearn.multiclass import OneVsRestClassifier\n",
    "from sklearn.svm import SVC\n",
    "\n",
    "Ytest = MultiLabelBinarizer().fit_transform(Ytest)\n",
    "\n",
    "for i in range(9):\n",
    "    tp=0.0\n",
    "    all_pos=0.0\n",
    "    all_pred_pos=0.0\n",
    "\n",
    "    for j in range(len(Ytest)):\n",
    "        if(Ytest[j][i]==1 and pred[j][i]==1):\n",
    "            tp+=1\n",
    "        if(Ytest[j][i]==1):\n",
    "            all_pos+=1\n",
    "        if(pred[j][i]==1):\n",
    "            all_pred_pos+=1\n",
    "       \n",
    "    precision = tp/all_pos\n",
    "    recall = tp/all_pred_pos\n",
    "    \n",
    "    print('F1 score for each class')\n",
    "    print(2*precision*recall/(precision+recall))\n",
    "\n",
    "    F1num += 2*precision*recall*all_pos/(precision+recall)\n",
    "    F1den += all_pos"
   ]
  },
  {
   "cell_type": "code",
   "execution_count": 18,
   "metadata": {
    "collapsed": false
   },
   "outputs": [
    {
     "name": "stdout",
     "output_type": "stream",
     "text": [
      "Mean F1 score is\n",
      "0.686912156997\n"
     ]
    }
   ],
   "source": [
    "print('Mean F1 score is')\n",
    "print(F1num/F1den)"
   ]
  },
  {
   "cell_type": "code",
   "execution_count": null,
   "metadata": {
    "collapsed": true
   },
   "outputs": [],
   "source": []
  }
 ],
 "metadata": {
  "kernelspec": {
   "display_name": "Python 2",
   "language": "python",
   "name": "python2"
  },
  "language_info": {
   "codemirror_mode": {
    "name": "ipython",
    "version": 2
   },
   "file_extension": ".py",
   "mimetype": "text/x-python",
   "name": "python",
   "nbconvert_exporter": "python",
   "pygments_lexer": "ipython2",
   "version": "2.7.11"
  }
 },
 "nbformat": 4,
 "nbformat_minor": 0
}
